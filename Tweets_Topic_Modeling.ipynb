{
  "nbformat": 4,
  "nbformat_minor": 0,
  "metadata": {
    "kernelspec": {
      "display_name": "Python 3",
      "language": "python",
      "name": "python3"
    },
    "language_info": {
      "codemirror_mode": {
        "name": "ipython",
        "version": 3
      },
      "file_extension": ".py",
      "mimetype": "text/x-python",
      "name": "python",
      "nbconvert_exporter": "python",
      "pygments_lexer": "ipython3",
      "version": "3.8.3"
    },
    "colab": {
      "name": "Tweets Topic Modeling.ipynb",
      "provenance": [],
      "toc_visible": true
    }
  },
  "cells": [
    {
      "cell_type": "code",
      "metadata": {
        "id": "6P5HzsAzDyPH",
        "outputId": "b9ddaa1f-8a79-4cc8-8299-34ce68b2cb5f",
        "colab": {
          "base_uri": "https://localhost:8080/"
        }
      },
      "source": [
        "import pandas as pd\n",
        "import numpy as np\n",
        "import nltk\n",
        "import re\n",
        "nltk.download('stopwords')\n",
        "from nltk.corpus import stopwords\n",
        "import gensim\n",
        "from gensim import corpora, models\n"
      ],
      "execution_count": 78,
      "outputs": [
        {
          "output_type": "stream",
          "text": [
            "[nltk_data] Downloading package stopwords to /root/nltk_data...\n",
            "[nltk_data]   Package stopwords is already up-to-date!\n"
          ],
          "name": "stdout"
        }
      ]
    },
    {
      "cell_type": "code",
      "metadata": {
        "id": "X71E4fbhDyPK",
        "outputId": "709cd714-26a6-40e9-bc37-0b38abaac270",
        "colab": {
          "base_uri": "https://localhost:8080/",
          "height": 419
        }
      },
      "source": [
        "# Read in dataset of Coronavirus tweets\n",
        "tweets = pd.read_csv(r\"Corona_combined_tweets.csv\", encoding = \"latin1\")\n",
        "tweets"
      ],
      "execution_count": 79,
      "outputs": [
        {
          "output_type": "execute_result",
          "data": {
            "text/html": [
              "<div>\n",
              "<style scoped>\n",
              "    .dataframe tbody tr th:only-of-type {\n",
              "        vertical-align: middle;\n",
              "    }\n",
              "\n",
              "    .dataframe tbody tr th {\n",
              "        vertical-align: top;\n",
              "    }\n",
              "\n",
              "    .dataframe thead th {\n",
              "        text-align: right;\n",
              "    }\n",
              "</style>\n",
              "<table border=\"1\" class=\"dataframe\">\n",
              "  <thead>\n",
              "    <tr style=\"text-align: right;\">\n",
              "      <th></th>\n",
              "      <th>UserName</th>\n",
              "      <th>ScreenName</th>\n",
              "      <th>Location</th>\n",
              "      <th>TweetAt</th>\n",
              "      <th>OriginalTweet</th>\n",
              "      <th>Sentiment</th>\n",
              "    </tr>\n",
              "  </thead>\n",
              "  <tbody>\n",
              "    <tr>\n",
              "      <th>0</th>\n",
              "      <td>1</td>\n",
              "      <td>44953</td>\n",
              "      <td>NYC</td>\n",
              "      <td>2/3/2020</td>\n",
              "      <td>TRENDING: New Yorkers encounter empty supermar...</td>\n",
              "      <td>Extremely Negative</td>\n",
              "    </tr>\n",
              "    <tr>\n",
              "      <th>1</th>\n",
              "      <td>2</td>\n",
              "      <td>44954</td>\n",
              "      <td>Seattle, WA</td>\n",
              "      <td>2/3/2020</td>\n",
              "      <td>When I couldn't find hand sanitizer at Fred Me...</td>\n",
              "      <td>Positive</td>\n",
              "    </tr>\n",
              "    <tr>\n",
              "      <th>2</th>\n",
              "      <td>3</td>\n",
              "      <td>44955</td>\n",
              "      <td>NaN</td>\n",
              "      <td>2/3/2020</td>\n",
              "      <td>Find out how you can protect yourself and love...</td>\n",
              "      <td>Extremely Positive</td>\n",
              "    </tr>\n",
              "    <tr>\n",
              "      <th>3</th>\n",
              "      <td>4</td>\n",
              "      <td>44956</td>\n",
              "      <td>Chicagoland</td>\n",
              "      <td>2/3/2020</td>\n",
              "      <td>#Panic buying hits #NewYork City as anxious sh...</td>\n",
              "      <td>Negative</td>\n",
              "    </tr>\n",
              "    <tr>\n",
              "      <th>4</th>\n",
              "      <td>5</td>\n",
              "      <td>44957</td>\n",
              "      <td>Melbourne, Victoria</td>\n",
              "      <td>3/3/2020</td>\n",
              "      <td>#toiletpaper #dunnypaper #coronavirus #coronav...</td>\n",
              "      <td>Neutral</td>\n",
              "    </tr>\n",
              "    <tr>\n",
              "      <th>...</th>\n",
              "      <td>...</td>\n",
              "      <td>...</td>\n",
              "      <td>...</td>\n",
              "      <td>...</td>\n",
              "      <td>...</td>\n",
              "      <td>...</td>\n",
              "    </tr>\n",
              "    <tr>\n",
              "      <th>44951</th>\n",
              "      <td>44951</td>\n",
              "      <td>89903</td>\n",
              "      <td>Wellington City, New Zealand</td>\n",
              "      <td>14-04-2020</td>\n",
              "      <td>Airline pilots offering to stock supermarket s...</td>\n",
              "      <td>Neutral</td>\n",
              "    </tr>\n",
              "    <tr>\n",
              "      <th>44952</th>\n",
              "      <td>44952</td>\n",
              "      <td>89904</td>\n",
              "      <td>NaN</td>\n",
              "      <td>14-04-2020</td>\n",
              "      <td>Response to complaint not provided citing COVI...</td>\n",
              "      <td>Extremely Negative</td>\n",
              "    </tr>\n",
              "    <tr>\n",
              "      <th>44953</th>\n",
              "      <td>44953</td>\n",
              "      <td>89905</td>\n",
              "      <td>NaN</td>\n",
              "      <td>14-04-2020</td>\n",
              "      <td>You know itÂs getting tough when @KameronWild...</td>\n",
              "      <td>Positive</td>\n",
              "    </tr>\n",
              "    <tr>\n",
              "      <th>44954</th>\n",
              "      <td>44954</td>\n",
              "      <td>89906</td>\n",
              "      <td>NaN</td>\n",
              "      <td>14-04-2020</td>\n",
              "      <td>Is it wrong that the smell of hand sanitizer i...</td>\n",
              "      <td>Neutral</td>\n",
              "    </tr>\n",
              "    <tr>\n",
              "      <th>44955</th>\n",
              "      <td>44955</td>\n",
              "      <td>89907</td>\n",
              "      <td>i love you so much || he/him</td>\n",
              "      <td>14-04-2020</td>\n",
              "      <td>@TartiiCat Well new/used Rift S are going for ...</td>\n",
              "      <td>Negative</td>\n",
              "    </tr>\n",
              "  </tbody>\n",
              "</table>\n",
              "<p>44956 rows × 6 columns</p>\n",
              "</div>"
            ],
            "text/plain": [
              "      UserName  ...           Sentiment\n",
              "0            1  ...  Extremely Negative\n",
              "1            2  ...            Positive\n",
              "2            3  ...  Extremely Positive\n",
              "3            4  ...            Negative\n",
              "4            5  ...             Neutral\n",
              "...        ...  ...                 ...\n",
              "44951    44951  ...             Neutral\n",
              "44952    44952  ...  Extremely Negative\n",
              "44953    44953  ...            Positive\n",
              "44954    44954  ...             Neutral\n",
              "44955    44955  ...            Negative\n",
              "\n",
              "[44956 rows x 6 columns]"
            ]
          },
          "metadata": {
            "tags": []
          },
          "execution_count": 79
        }
      ]
    },
    {
      "cell_type": "code",
      "metadata": {
        "id": "FBnXoOTHDyPN",
        "outputId": "41c343c8-a146-4f64-c405-4ce7ec3b50f1",
        "colab": {
          "base_uri": "https://localhost:8080/"
        }
      },
      "source": [
        "# Separate documents from dataset\n",
        "documents = tweets['OriginalTweet']\n",
        "documents"
      ],
      "execution_count": 80,
      "outputs": [
        {
          "output_type": "execute_result",
          "data": {
            "text/plain": [
              "0        TRENDING: New Yorkers encounter empty supermar...\n",
              "1        When I couldn't find hand sanitizer at Fred Me...\n",
              "2        Find out how you can protect yourself and love...\n",
              "3        #Panic buying hits #NewYork City as anxious sh...\n",
              "4        #toiletpaper #dunnypaper #coronavirus #coronav...\n",
              "                               ...                        \n",
              "44951    Airline pilots offering to stock supermarket s...\n",
              "44952    Response to complaint not provided citing COVI...\n",
              "44953    You know itÂs getting tough when @KameronWild...\n",
              "44954    Is it wrong that the smell of hand sanitizer i...\n",
              "44955    @TartiiCat Well new/used Rift S are going for ...\n",
              "Name: OriginalTweet, Length: 44956, dtype: object"
            ]
          },
          "metadata": {
            "tags": []
          },
          "execution_count": 80
        }
      ]
    },
    {
      "cell_type": "code",
      "metadata": {
        "id": "gNYkar0rDyPQ",
        "outputId": "5ddee52b-223e-44e0-bfa4-266790fb1ad4",
        "colab": {
          "base_uri": "https://localhost:8080/"
        }
      },
      "source": [
        "# Let us first clean our documents\n",
        "def text_prepare(text):\n",
        "    \"\"\"Tokenization and Preprocessing.\"\"\"\n",
        "    \n",
        "    # Make everything lowercase\n",
        "    text = text.lower()\n",
        "    \n",
        "    # Remove misspelled words or words not found in GoogleNews embeddings (determined in data exploration and preprocessing)\n",
        "    text = re.sub(\"doesnt\", \"does not\", text)\n",
        "    text = re.sub(\"dont\", \"do not\", text)\n",
        "    text = re.sub(\"isnt\", \"is not\", text)\n",
        "    text = re.sub(\"wasnt\", \"was not\", text)\n",
        "    text = re.sub(\"didnt\", \"did not\", text)\n",
        "    text = re.sub(\"behaviour\", \"behavior\", text)\n",
        "    text = re.sub(\"colour\", \"color\", text)\n",
        "    \n",
        "    # Replace symbols,newline characters and remove stopwords. Then tokenize sentence \n",
        "    replace_by_space_re = re.compile('[/(){}\\[\\]\\|@,;]')\n",
        "    good_symbols_re = re.compile('[^0-9a-z +_]')\n",
        "    stopwords_set = set(stopwords.words('english'))\n",
        "    text = re.sub(\"\\n\", \" \", text)\n",
        "    text = replace_by_space_re.sub(' ', text)\n",
        "    text = good_symbols_re.sub('', text)\n",
        "    text = re.sub(\"covid19\", \"coronavirus\", text)\n",
        "    text = re.sub(\"covid\", \"coronavirus\", text)\n",
        "    text = re.sub(\"corona\", \"coronavirus\", text)\n",
        "    text = re.sub(\"store\", \"supermarket\", text)\n",
        "    text = re.sub(\"grocery\", \"supermarket\", text)\n",
        "    text = re.sub(\"social distancing\", \"social-distancing\", text)\n",
        "    text = re.sub(\"socialdistancing\", \"social-distancing\", text)\n",
        "    text = re.sub(\"toilet paper\", \"toilet-paper\", text)\n",
        "    text = re.sub(\"toiletpaper\", \"toilet-paper\", text)\n",
        "    text = re.sub(\"hand sanitizer\", \"sanitizer\", text)\n",
        "    text = re.sub(\"oil prices\", \"oil-prices\", text)\n",
        "    text = re.sub(\"consumer demand\", \"consumer-demand\", text)\n",
        "    text = re.sub(\"online shopping\", \"online-shopping\", text)\n",
        "    text = re.sub(\"http\", \"\", text)\n",
        "    text = re.sub(\"https\", \"\", text)\n",
        "    text = re.sub(\" tco \", \"\", text)\n",
        "    text = ' '.join([x for x in text.split() if x and x not in stopwords_set])\n",
        "    \n",
        "    return text\n",
        "\n",
        "documents = documents.map(lambda x: text_prepare(x))\n",
        "documents = documents.map(lambda x: x.split())\n",
        "documents"
      ],
      "execution_count": 81,
      "outputs": [
        {
          "output_type": "execute_result",
          "data": {
            "text/plain": [
              "0        [trending, new, yorkers, encounter, empty, sup...\n",
              "1        [couldnt, find, sanitizer, fred, meyer, turned...\n",
              "2           [find, protect, loved, ones, coronavirusvirus]\n",
              "3        [panic, buying, hits, newyork, city, anxious, ...\n",
              "4        [toilet-paper, dunnypaper, coronavirusvirus, c...\n",
              "                               ...                        \n",
              "44951    [airline, pilots, offering, stock, supermarket...\n",
              "44952    [response, complaint, provided, citing, corona...\n",
              "44953    [know, getting, tough, kameronwilds, rationing...\n",
              "44954    [wrong, smell, sanitizer, starting, turn, coro...\n",
              "44955    [tartiicat, well, new, used, rift, going, 7000...\n",
              "Name: OriginalTweet, Length: 44956, dtype: object"
            ]
          },
          "metadata": {
            "tags": []
          },
          "execution_count": 81
        }
      ]
    },
    {
      "cell_type": "code",
      "metadata": {
        "id": "f8gxCRWmDyPV"
      },
      "source": [
        "#  Now to create our dictionary, BoW and use TD-IDF instead of count\n",
        "\n",
        "dic = gensim.corpora.Dictionary(documents)\n",
        "dic.filter_extremes(keep_n=20000)\n",
        "\n",
        "bow = []\n",
        "for doc in documents:\n",
        "  bow.append(dic.doc2bow(doc))\n"
      ],
      "execution_count": 82,
      "outputs": []
    },
    {
      "cell_type": "code",
      "metadata": {
        "id": "ohUV9GIiDyPX"
      },
      "source": [
        "# Train LDA model\n",
        "\n",
        "lda = gensim.models.ldamodel.LdaModel\n",
        "model = lda(bow_tdidf, num_topics=3, id2word = dic, passes=10)"
      ],
      "execution_count": 83,
      "outputs": []
    },
    {
      "cell_type": "code",
      "metadata": {
        "id": "hRvLISPWDyPZ",
        "outputId": "0a5b1dd9-26ba-4b4c-ef7f-89a9904203ae",
        "colab": {
          "base_uri": "https://localhost:8080/"
        }
      },
      "source": [
        "# Let us look at the top three topics\n",
        "\n",
        "for topic in model.print_topics(num_topics = 3, num_words = 5): \n",
        "  print(topic)"
      ],
      "execution_count": 84,
      "outputs": [
        {
          "output_type": "stream",
          "text": [
            "(0, '0.014*\"supermarket\" + 0.007*\"toilet-paper\" + 0.006*\"social-distancing\" + 0.006*\"people\" + 0.005*\"go\"')\n",
            "(1, '0.010*\"consumer\" + 0.006*\"pandemic\" + 0.005*\"19\" + 0.004*\"demand\" + 0.004*\"crisis\"')\n",
            "(2, '0.014*\"prices\" + 0.008*\"sanitizer\" + 0.006*\"oil\" + 0.005*\"gas\" + 0.005*\"oil-prices\"')\n"
          ],
          "name": "stdout"
        }
      ]
    },
    {
      "cell_type": "markdown",
      "metadata": {
        "id": "6YFACjetLrpD"
      },
      "source": [
        "We can see the three most common themes (topics) referenced in tweets referencing Covid are:\n",
        "\n",
        "\n",
        "1.   Referenves to shopping in person (supermarket, social-distancing, people ...).\n",
        "2.   References to the pandemic and presumably its effect on demand.\n",
        "3.   References to the financial impact of the pandemic (price of various goods).\n",
        "\n",
        "\n",
        "\n",
        "\n"
      ]
    },
    {
      "cell_type": "code",
      "metadata": {
        "id": "cmgWPX9OMXDT"
      },
      "source": [
        ""
      ],
      "execution_count": null,
      "outputs": []
    }
  ]
}
